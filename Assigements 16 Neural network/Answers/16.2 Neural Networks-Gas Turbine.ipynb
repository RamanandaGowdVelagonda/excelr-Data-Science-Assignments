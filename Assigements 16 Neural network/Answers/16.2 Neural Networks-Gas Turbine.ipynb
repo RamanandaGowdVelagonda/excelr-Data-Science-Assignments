{
 "cells": [
  {
   "cell_type": "markdown",
   "id": "0e185874",
   "metadata": {},
   "source": [
    "## predicting turbine energy yield (TEY) using ambient variables as features."
   ]
  },
  {
   "cell_type": "markdown",
   "id": "af05feb5",
   "metadata": {},
   "source": [
    "## Import libraries"
   ]
  },
  {
   "cell_type": "code",
   "execution_count": 4,
   "id": "d413d461",
   "metadata": {},
   "outputs": [
    {
     "name": "stdout",
     "output_type": "stream",
     "text": [
      "WARNING:tensorflow:From C:\\Users\\velag\\AppData\\Roaming\\Python\\Python311\\site-packages\\keras\\src\\losses.py:2976: The name tf.losses.sparse_softmax_cross_entropy is deprecated. Please use tf.compat.v1.losses.sparse_softmax_cross_entropy instead.\n",
      "\n"
     ]
    }
   ],
   "source": [
    "#load the libraries\n",
    "import pandas as pd\n",
    "import numpy as np\n",
    "from sklearn.model_selection import train_test_split, cross_val_score\n",
    "import seaborn as sns\n",
    "from matplotlib import pyplot as plt\n",
    "%matplotlib inline\n",
    "import tensorflow as tf\n",
    "tf.debugging.set_log_device_placement(False) \n",
    "import warnings\n",
    "warnings.filterwarnings('ignore')"
   ]
  },
  {
   "cell_type": "code",
   "execution_count": 5,
   "id": "8845b788",
   "metadata": {},
   "outputs": [],
   "source": [
    "# Generating reproducible results from same code\n",
    "tf.random.set_seed(14) "
   ]
  },
  {
   "cell_type": "code",
   "execution_count": 6,
   "id": "a0e4b172",
   "metadata": {},
   "outputs": [
    {
     "data": {
      "text/html": [
       "<div>\n",
       "<style scoped>\n",
       "    .dataframe tbody tr th:only-of-type {\n",
       "        vertical-align: middle;\n",
       "    }\n",
       "\n",
       "    .dataframe tbody tr th {\n",
       "        vertical-align: top;\n",
       "    }\n",
       "\n",
       "    .dataframe thead th {\n",
       "        text-align: right;\n",
       "    }\n",
       "</style>\n",
       "<table border=\"1\" class=\"dataframe\">\n",
       "  <thead>\n",
       "    <tr style=\"text-align: right;\">\n",
       "      <th></th>\n",
       "      <th>AT</th>\n",
       "      <th>AP</th>\n",
       "      <th>AH</th>\n",
       "      <th>AFDP</th>\n",
       "      <th>GTEP</th>\n",
       "      <th>TIT</th>\n",
       "      <th>TAT</th>\n",
       "      <th>TEY</th>\n",
       "      <th>CDP</th>\n",
       "      <th>CO</th>\n",
       "      <th>NOX</th>\n",
       "    </tr>\n",
       "  </thead>\n",
       "  <tbody>\n",
       "    <tr>\n",
       "      <th>0</th>\n",
       "      <td>6.8594</td>\n",
       "      <td>1007.9</td>\n",
       "      <td>96.799</td>\n",
       "      <td>3.5000</td>\n",
       "      <td>19.663</td>\n",
       "      <td>1059.2</td>\n",
       "      <td>550.00</td>\n",
       "      <td>114.70</td>\n",
       "      <td>10.605</td>\n",
       "      <td>3.1547</td>\n",
       "      <td>82.722</td>\n",
       "    </tr>\n",
       "    <tr>\n",
       "      <th>1</th>\n",
       "      <td>6.7850</td>\n",
       "      <td>1008.4</td>\n",
       "      <td>97.118</td>\n",
       "      <td>3.4998</td>\n",
       "      <td>19.728</td>\n",
       "      <td>1059.3</td>\n",
       "      <td>550.00</td>\n",
       "      <td>114.72</td>\n",
       "      <td>10.598</td>\n",
       "      <td>3.2363</td>\n",
       "      <td>82.776</td>\n",
       "    </tr>\n",
       "    <tr>\n",
       "      <th>2</th>\n",
       "      <td>6.8977</td>\n",
       "      <td>1008.8</td>\n",
       "      <td>95.939</td>\n",
       "      <td>3.4824</td>\n",
       "      <td>19.779</td>\n",
       "      <td>1059.4</td>\n",
       "      <td>549.87</td>\n",
       "      <td>114.71</td>\n",
       "      <td>10.601</td>\n",
       "      <td>3.2012</td>\n",
       "      <td>82.468</td>\n",
       "    </tr>\n",
       "    <tr>\n",
       "      <th>3</th>\n",
       "      <td>7.0569</td>\n",
       "      <td>1009.2</td>\n",
       "      <td>95.249</td>\n",
       "      <td>3.4805</td>\n",
       "      <td>19.792</td>\n",
       "      <td>1059.6</td>\n",
       "      <td>549.99</td>\n",
       "      <td>114.72</td>\n",
       "      <td>10.606</td>\n",
       "      <td>3.1923</td>\n",
       "      <td>82.670</td>\n",
       "    </tr>\n",
       "    <tr>\n",
       "      <th>4</th>\n",
       "      <td>7.3978</td>\n",
       "      <td>1009.7</td>\n",
       "      <td>95.150</td>\n",
       "      <td>3.4976</td>\n",
       "      <td>19.765</td>\n",
       "      <td>1059.7</td>\n",
       "      <td>549.98</td>\n",
       "      <td>114.72</td>\n",
       "      <td>10.612</td>\n",
       "      <td>3.2484</td>\n",
       "      <td>82.311</td>\n",
       "    </tr>\n",
       "  </tbody>\n",
       "</table>\n",
       "</div>"
      ],
      "text/plain": [
       "       AT      AP      AH    AFDP    GTEP     TIT     TAT     TEY     CDP  \\\n",
       "0  6.8594  1007.9  96.799  3.5000  19.663  1059.2  550.00  114.70  10.605   \n",
       "1  6.7850  1008.4  97.118  3.4998  19.728  1059.3  550.00  114.72  10.598   \n",
       "2  6.8977  1008.8  95.939  3.4824  19.779  1059.4  549.87  114.71  10.601   \n",
       "3  7.0569  1009.2  95.249  3.4805  19.792  1059.6  549.99  114.72  10.606   \n",
       "4  7.3978  1009.7  95.150  3.4976  19.765  1059.7  549.98  114.72  10.612   \n",
       "\n",
       "       CO     NOX  \n",
       "0  3.1547  82.722  \n",
       "1  3.2363  82.776  \n",
       "2  3.2012  82.468  \n",
       "3  3.1923  82.670  \n",
       "4  3.2484  82.311  "
      ]
     },
     "execution_count": 6,
     "metadata": {},
     "output_type": "execute_result"
    }
   ],
   "source": [
    "raw = pd.read_csv(\"G:\\my Assignemt\\Assigements 16 Neural network\\gas_turbines.csv.crdownload\")\n",
    "raw.head() \n",
    "#TEY is the variable we should predict."
   ]
  },
  {
   "cell_type": "code",
   "execution_count": 7,
   "id": "e780d712",
   "metadata": {},
   "outputs": [
    {
     "data": {
      "text/html": [
       "<div>\n",
       "<style scoped>\n",
       "    .dataframe tbody tr th:only-of-type {\n",
       "        vertical-align: middle;\n",
       "    }\n",
       "\n",
       "    .dataframe tbody tr th {\n",
       "        vertical-align: top;\n",
       "    }\n",
       "\n",
       "    .dataframe thead th {\n",
       "        text-align: right;\n",
       "    }\n",
       "</style>\n",
       "<table border=\"1\" class=\"dataframe\">\n",
       "  <thead>\n",
       "    <tr style=\"text-align: right;\">\n",
       "      <th></th>\n",
       "      <th>AT</th>\n",
       "      <th>AP</th>\n",
       "      <th>AH</th>\n",
       "      <th>TEY</th>\n",
       "    </tr>\n",
       "  </thead>\n",
       "  <tbody>\n",
       "    <tr>\n",
       "      <th>0</th>\n",
       "      <td>6.8594</td>\n",
       "      <td>1007.9</td>\n",
       "      <td>96.799</td>\n",
       "      <td>114.70</td>\n",
       "    </tr>\n",
       "    <tr>\n",
       "      <th>1</th>\n",
       "      <td>6.7850</td>\n",
       "      <td>1008.4</td>\n",
       "      <td>97.118</td>\n",
       "      <td>114.72</td>\n",
       "    </tr>\n",
       "    <tr>\n",
       "      <th>2</th>\n",
       "      <td>6.8977</td>\n",
       "      <td>1008.8</td>\n",
       "      <td>95.939</td>\n",
       "      <td>114.71</td>\n",
       "    </tr>\n",
       "    <tr>\n",
       "      <th>3</th>\n",
       "      <td>7.0569</td>\n",
       "      <td>1009.2</td>\n",
       "      <td>95.249</td>\n",
       "      <td>114.72</td>\n",
       "    </tr>\n",
       "    <tr>\n",
       "      <th>4</th>\n",
       "      <td>7.3978</td>\n",
       "      <td>1009.7</td>\n",
       "      <td>95.150</td>\n",
       "      <td>114.72</td>\n",
       "    </tr>\n",
       "  </tbody>\n",
       "</table>\n",
       "</div>"
      ],
      "text/plain": [
       "       AT      AP      AH     TEY\n",
       "0  6.8594  1007.9  96.799  114.70\n",
       "1  6.7850  1008.4  97.118  114.72\n",
       "2  6.8977  1008.8  95.939  114.71\n",
       "3  7.0569  1009.2  95.249  114.72\n",
       "4  7.3978  1009.7  95.150  114.72"
      ]
     },
     "execution_count": 7,
     "metadata": {},
     "output_type": "execute_result"
    }
   ],
   "source": [
    "df = raw.copy() \n",
    "df = df.drop(['AFDP','GTEP','TIT','TAT','CDP','CO','NOX'],axis=1)\n",
    "df.head()"
   ]
  },
  {
   "cell_type": "code",
   "execution_count": 8,
   "id": "e82039aa",
   "metadata": {},
   "outputs": [
    {
     "name": "stdout",
     "output_type": "stream",
     "text": [
      "<class 'pandas.core.frame.DataFrame'>\n",
      "RangeIndex: 5387 entries, 0 to 5386\n",
      "Data columns (total 4 columns):\n",
      " #   Column  Non-Null Count  Dtype  \n",
      "---  ------  --------------  -----  \n",
      " 0   AT      5387 non-null   float64\n",
      " 1   AP      5387 non-null   float64\n",
      " 2   AH      5387 non-null   float64\n",
      " 3   TEY     5386 non-null   float64\n",
      "dtypes: float64(4)\n",
      "memory usage: 168.5 KB\n"
     ]
    }
   ],
   "source": [
    "df.info()"
   ]
  },
  {
   "cell_type": "code",
   "execution_count": 9,
   "id": "b40d2f5d",
   "metadata": {},
   "outputs": [
    {
     "data": {
      "text/html": [
       "<div>\n",
       "<style scoped>\n",
       "    .dataframe tbody tr th:only-of-type {\n",
       "        vertical-align: middle;\n",
       "    }\n",
       "\n",
       "    .dataframe tbody tr th {\n",
       "        vertical-align: top;\n",
       "    }\n",
       "\n",
       "    .dataframe thead th {\n",
       "        text-align: right;\n",
       "    }\n",
       "</style>\n",
       "<table border=\"1\" class=\"dataframe\">\n",
       "  <thead>\n",
       "    <tr style=\"text-align: right;\">\n",
       "      <th></th>\n",
       "      <th>AT</th>\n",
       "      <th>AP</th>\n",
       "      <th>AH</th>\n",
       "      <th>TEY</th>\n",
       "    </tr>\n",
       "  </thead>\n",
       "  <tbody>\n",
       "    <tr>\n",
       "      <th>count</th>\n",
       "      <td>5387.000000</td>\n",
       "      <td>5387.000000</td>\n",
       "      <td>5387.000000</td>\n",
       "      <td>5386.000000</td>\n",
       "    </tr>\n",
       "    <tr>\n",
       "      <th>mean</th>\n",
       "      <td>19.344062</td>\n",
       "      <td>1011.626831</td>\n",
       "      <td>76.655156</td>\n",
       "      <td>133.097831</td>\n",
       "    </tr>\n",
       "    <tr>\n",
       "      <th>std</th>\n",
       "      <td>8.088147</td>\n",
       "      <td>6.450995</td>\n",
       "      <td>14.482346</td>\n",
       "      <td>15.590339</td>\n",
       "    </tr>\n",
       "    <tr>\n",
       "      <th>min</th>\n",
       "      <td>0.522300</td>\n",
       "      <td>985.850000</td>\n",
       "      <td>30.344000</td>\n",
       "      <td>102.560000</td>\n",
       "    </tr>\n",
       "    <tr>\n",
       "      <th>25%</th>\n",
       "      <td>12.342000</td>\n",
       "      <td>1007.900000</td>\n",
       "      <td>65.920000</td>\n",
       "      <td>124.590000</td>\n",
       "    </tr>\n",
       "    <tr>\n",
       "      <th>50%</th>\n",
       "      <td>20.683000</td>\n",
       "      <td>1011.100000</td>\n",
       "      <td>79.221000</td>\n",
       "      <td>133.780000</td>\n",
       "    </tr>\n",
       "    <tr>\n",
       "      <th>75%</th>\n",
       "      <td>25.678500</td>\n",
       "      <td>1015.000000</td>\n",
       "      <td>88.566500</td>\n",
       "      <td>135.180000</td>\n",
       "    </tr>\n",
       "    <tr>\n",
       "      <th>max</th>\n",
       "      <td>34.929000</td>\n",
       "      <td>1031.800000</td>\n",
       "      <td>100.180000</td>\n",
       "      <td>174.610000</td>\n",
       "    </tr>\n",
       "  </tbody>\n",
       "</table>\n",
       "</div>"
      ],
      "text/plain": [
       "                AT           AP           AH          TEY\n",
       "count  5387.000000  5387.000000  5387.000000  5386.000000\n",
       "mean     19.344062  1011.626831    76.655156   133.097831\n",
       "std       8.088147     6.450995    14.482346    15.590339\n",
       "min       0.522300   985.850000    30.344000   102.560000\n",
       "25%      12.342000  1007.900000    65.920000   124.590000\n",
       "50%      20.683000  1011.100000    79.221000   133.780000\n",
       "75%      25.678500  1015.000000    88.566500   135.180000\n",
       "max      34.929000  1031.800000   100.180000   174.610000"
      ]
     },
     "execution_count": 9,
     "metadata": {},
     "output_type": "execute_result"
    }
   ],
   "source": [
    "df.describe()"
   ]
  },
  {
   "cell_type": "markdown",
   "id": "28138005",
   "metadata": {},
   "source": [
    "# Feature Analysis"
   ]
  },
  {
   "cell_type": "markdown",
   "id": "23d2b995",
   "metadata": {},
   "source": [
    " All features in the dataset can be used in model building. This is a Regression Problem."
   ]
  },
  {
   "cell_type": "markdown",
   "id": "7c408d68",
   "metadata": {},
   "source": [
    "# Train | Split dataset"
   ]
  },
  {
   "cell_type": "code",
   "execution_count": 10,
   "id": "ad8d7435",
   "metadata": {},
   "outputs": [],
   "source": [
    "X = df.iloc[:,:-1]\n",
    "Y = df.iloc[:,-1]\n",
    "\n",
    "\n",
    "X_train, X_test, y_train, y_test = train_test_split(X,Y, test_size = 0.3)"
   ]
  },
  {
   "cell_type": "markdown",
   "id": "33ef84ce",
   "metadata": {},
   "source": [
    "A common mistake when configuring a neural network is to first normalize the data before splitting the data."
   ]
  },
  {
   "cell_type": "code",
   "execution_count": 11,
   "id": "33b605ab",
   "metadata": {},
   "outputs": [],
   "source": [
    "y_train=np.reshape(y_train.to_numpy(), (-1,1)) \n",
    "y_test=np.reshape(y_test.to_numpy(), (-1,1)) "
   ]
  },
  {
   "cell_type": "code",
   "execution_count": 12,
   "id": "4bed40ed",
   "metadata": {},
   "outputs": [
    {
     "name": "stdout",
     "output_type": "stream",
     "text": [
      "MinMaxScaler()\n",
      "MinMaxScaler()\n",
      "MinMaxScaler()\n",
      "MinMaxScaler()\n"
     ]
    }
   ],
   "source": [
    "from sklearn.preprocessing import MinMaxScaler\n",
    "\n",
    "scaler_x = MinMaxScaler()\n",
    "scaler_y = MinMaxScaler()\n",
    "\n",
    "print(scaler_x.fit(X_train))\n",
    "xtrain_scale=scaler_x.transform(X_train)\n",
    "\n",
    "print(scaler_x.fit(X_test))\n",
    "xtest_scale=scaler_x.transform(X_test)\n",
    "\n",
    "print(scaler_y.fit(y_train))\n",
    "ytrain_scale=scaler_y.transform(y_train)\n",
    "\n",
    "print(scaler_y.fit(y_test))\n",
    "ytest_scale=scaler_y.transform(y_test)"
   ]
  },
  {
   "cell_type": "code",
   "execution_count": 13,
   "id": "7f0066c5",
   "metadata": {},
   "outputs": [
    {
     "data": {
      "text/plain": [
       "3770"
      ]
     },
     "execution_count": 13,
     "metadata": {},
     "output_type": "execute_result"
    }
   ],
   "source": [
    "len(xtrain_scale)"
   ]
  },
  {
   "cell_type": "markdown",
   "id": "19f5f10d",
   "metadata": {},
   "source": [
    "# Neural Network Modelling"
   ]
  },
  {
   "cell_type": "markdown",
   "id": "fca00555",
   "metadata": {},
   "source": [
    "Building the Model"
   ]
  },
  {
   "cell_type": "code",
   "execution_count": 14,
   "id": "bb482cc6",
   "metadata": {},
   "outputs": [],
   "source": [
    "# Create your first MLP in Keras\n",
    "import keras \n",
    "from keras.models import Sequential\n",
    "from keras.layers import Dense"
   ]
  },
  {
   "cell_type": "code",
   "execution_count": 15,
   "id": "f87208a5",
   "metadata": {},
   "outputs": [
    {
     "name": "stdout",
     "output_type": "stream",
     "text": [
      "WARNING:tensorflow:From C:\\Users\\velag\\AppData\\Roaming\\Python\\Python311\\site-packages\\keras\\src\\backend.py:873: The name tf.get_default_graph is deprecated. Please use tf.compat.v1.get_default_graph instead.\n",
      "\n",
      "WARNING:tensorflow:From C:\\Users\\velag\\AppData\\Roaming\\Python\\Python311\\site-packages\\keras\\src\\optimizers\\__init__.py:309: The name tf.train.Optimizer is deprecated. Please use tf.compat.v1.train.Optimizer instead.\n",
      "\n",
      "Epoch 1/100\n",
      "WARNING:tensorflow:From C:\\Users\\velag\\AppData\\Roaming\\Python\\Python311\\site-packages\\keras\\src\\utils\\tf_utils.py:492: The name tf.ragged.RaggedTensorValue is deprecated. Please use tf.compat.v1.ragged.RaggedTensorValue instead.\n",
      "\n",
      "WARNING:tensorflow:From C:\\Users\\velag\\AppData\\Roaming\\Python\\Python311\\site-packages\\keras\\src\\engine\\base_layer_utils.py:384: The name tf.executing_eagerly_outside_functions is deprecated. Please use tf.compat.v1.executing_eagerly_outside_functions instead.\n",
      "\n",
      "17/17 [==============================] - 3s 45ms/step - loss: 0.1119 - mse: 0.1119 - mae: 0.2659 - val_loss: 0.0548 - val_mse: 0.0548 - val_mae: 0.1882\n",
      "Epoch 2/100\n",
      "17/17 [==============================] - 0s 14ms/step - loss: 0.0534 - mse: 0.0534 - mae: 0.1793 - val_loss: 0.0490 - val_mse: 0.0490 - val_mae: 0.1679\n",
      "Epoch 3/100\n",
      "17/17 [==============================] - 0s 13ms/step - loss: 0.0481 - mse: 0.0481 - mae: 0.1622 - val_loss: 0.0477 - val_mse: 0.0477 - val_mae: 0.1525\n",
      "Epoch 4/100\n",
      "17/17 [==============================] - 0s 14ms/step - loss: 0.0470 - mse: 0.0470 - mae: 0.1516 - val_loss: 0.0472 - val_mse: 0.0472 - val_mae: 0.1539\n",
      "Epoch 5/100\n",
      "17/17 [==============================] - 0s 14ms/step - loss: 0.0468 - mse: 0.0468 - mae: 0.1533 - val_loss: 0.0472 - val_mse: 0.0472 - val_mae: 0.1499\n",
      "Epoch 6/100\n",
      "17/17 [==============================] - 0s 20ms/step - loss: 0.0468 - mse: 0.0468 - mae: 0.1519 - val_loss: 0.0470 - val_mse: 0.0470 - val_mae: 0.1498\n",
      "Epoch 7/100\n",
      "17/17 [==============================] - 0s 13ms/step - loss: 0.0466 - mse: 0.0466 - mae: 0.1515 - val_loss: 0.0470 - val_mse: 0.0470 - val_mae: 0.1566\n",
      "Epoch 8/100\n",
      "17/17 [==============================] - 0s 13ms/step - loss: 0.0464 - mse: 0.0464 - mae: 0.1524 - val_loss: 0.0466 - val_mse: 0.0466 - val_mae: 0.1505\n",
      "Epoch 9/100\n",
      "17/17 [==============================] - 0s 13ms/step - loss: 0.0462 - mse: 0.0462 - mae: 0.1518 - val_loss: 0.0464 - val_mse: 0.0464 - val_mae: 0.1518\n",
      "Epoch 10/100\n",
      "17/17 [==============================] - 0s 12ms/step - loss: 0.0459 - mse: 0.0459 - mae: 0.1506 - val_loss: 0.0461 - val_mse: 0.0461 - val_mae: 0.1508\n",
      "Epoch 11/100\n",
      "17/17 [==============================] - 0s 14ms/step - loss: 0.0456 - mse: 0.0456 - mae: 0.1521 - val_loss: 0.0458 - val_mse: 0.0458 - val_mae: 0.1507\n",
      "Epoch 12/100\n",
      "17/17 [==============================] - 0s 12ms/step - loss: 0.0452 - mse: 0.0452 - mae: 0.1521 - val_loss: 0.0454 - val_mse: 0.0454 - val_mae: 0.1519\n",
      "Epoch 13/100\n",
      "17/17 [==============================] - 0s 13ms/step - loss: 0.0449 - mse: 0.0449 - mae: 0.1522 - val_loss: 0.0449 - val_mse: 0.0449 - val_mae: 0.1527\n",
      "Epoch 14/100\n",
      "17/17 [==============================] - 0s 17ms/step - loss: 0.0446 - mse: 0.0446 - mae: 0.1534 - val_loss: 0.0444 - val_mse: 0.0444 - val_mae: 0.1525\n",
      "Epoch 15/100\n",
      "17/17 [==============================] - 0s 13ms/step - loss: 0.0439 - mse: 0.0439 - mae: 0.1520 - val_loss: 0.0441 - val_mse: 0.0441 - val_mae: 0.1563\n",
      "Epoch 16/100\n",
      "17/17 [==============================] - 0s 13ms/step - loss: 0.0438 - mse: 0.0438 - mae: 0.1557 - val_loss: 0.0435 - val_mse: 0.0435 - val_mae: 0.1561\n",
      "Epoch 17/100\n",
      "17/17 [==============================] - 0s 23ms/step - loss: 0.0433 - mse: 0.0433 - mae: 0.1547 - val_loss: 0.0433 - val_mse: 0.0433 - val_mae: 0.1590\n",
      "Epoch 18/100\n",
      "17/17 [==============================] - 0s 17ms/step - loss: 0.0424 - mse: 0.0424 - mae: 0.1541 - val_loss: 0.0423 - val_mse: 0.0423 - val_mae: 0.1545\n",
      "Epoch 19/100\n",
      "17/17 [==============================] - 0s 15ms/step - loss: 0.0417 - mse: 0.0417 - mae: 0.1539 - val_loss: 0.0420 - val_mse: 0.0420 - val_mae: 0.1570\n",
      "Epoch 20/100\n",
      "17/17 [==============================] - 0s 16ms/step - loss: 0.0416 - mse: 0.0416 - mae: 0.1554 - val_loss: 0.0417 - val_mse: 0.0417 - val_mae: 0.1521\n",
      "Epoch 21/100\n",
      "17/17 [==============================] - 0s 19ms/step - loss: 0.0411 - mse: 0.0411 - mae: 0.1540 - val_loss: 0.0410 - val_mse: 0.0410 - val_mae: 0.1525\n",
      "Epoch 22/100\n",
      "17/17 [==============================] - 0s 15ms/step - loss: 0.0406 - mse: 0.0406 - mae: 0.1553 - val_loss: 0.0411 - val_mse: 0.0411 - val_mae: 0.1584\n",
      "Epoch 23/100\n",
      "17/17 [==============================] - 0s 13ms/step - loss: 0.0410 - mse: 0.0410 - mae: 0.1578 - val_loss: 0.0413 - val_mse: 0.0413 - val_mae: 0.1609\n",
      "Epoch 24/100\n",
      "17/17 [==============================] - 0s 15ms/step - loss: 0.0404 - mse: 0.0404 - mae: 0.1558 - val_loss: 0.0406 - val_mse: 0.0406 - val_mae: 0.1576\n",
      "Epoch 25/100\n",
      "17/17 [==============================] - 0s 18ms/step - loss: 0.0401 - mse: 0.0401 - mae: 0.1556 - val_loss: 0.0402 - val_mse: 0.0402 - val_mae: 0.1546\n",
      "Epoch 26/100\n",
      "17/17 [==============================] - 0s 15ms/step - loss: 0.0400 - mse: 0.0400 - mae: 0.1554 - val_loss: 0.0401 - val_mse: 0.0401 - val_mae: 0.1553\n",
      "Epoch 27/100\n",
      "17/17 [==============================] - 0s 16ms/step - loss: 0.0398 - mse: 0.0398 - mae: 0.1550 - val_loss: 0.0404 - val_mse: 0.0404 - val_mae: 0.1573\n",
      "Epoch 28/100\n",
      "17/17 [==============================] - 0s 12ms/step - loss: 0.0399 - mse: 0.0399 - mae: 0.1551 - val_loss: 0.0401 - val_mse: 0.0401 - val_mae: 0.1549\n",
      "Epoch 29/100\n",
      "17/17 [==============================] - 0s 15ms/step - loss: 0.0404 - mse: 0.0404 - mae: 0.1572 - val_loss: 0.0406 - val_mse: 0.0406 - val_mae: 0.1548\n",
      "Epoch 30/100\n",
      "17/17 [==============================] - 0s 16ms/step - loss: 0.0402 - mse: 0.0402 - mae: 0.1572 - val_loss: 0.0398 - val_mse: 0.0398 - val_mae: 0.1551\n",
      "Epoch 31/100\n",
      "17/17 [==============================] - 0s 16ms/step - loss: 0.0397 - mse: 0.0397 - mae: 0.1552 - val_loss: 0.0397 - val_mse: 0.0397 - val_mae: 0.1538\n",
      "Epoch 32/100\n",
      "17/17 [==============================] - 0s 15ms/step - loss: 0.0395 - mse: 0.0395 - mae: 0.1553 - val_loss: 0.0396 - val_mse: 0.0396 - val_mae: 0.1548\n",
      "Epoch 33/100\n",
      "17/17 [==============================] - 0s 13ms/step - loss: 0.0396 - mse: 0.0396 - mae: 0.1555 - val_loss: 0.0398 - val_mse: 0.0398 - val_mae: 0.1533\n",
      "Epoch 34/100\n",
      "17/17 [==============================] - 0s 14ms/step - loss: 0.0395 - mse: 0.0395 - mae: 0.1544 - val_loss: 0.0394 - val_mse: 0.0394 - val_mae: 0.1541\n",
      "Epoch 35/100\n",
      "17/17 [==============================] - 0s 15ms/step - loss: 0.0397 - mse: 0.0397 - mae: 0.1563 - val_loss: 0.0394 - val_mse: 0.0394 - val_mae: 0.1541\n",
      "Epoch 36/100\n",
      "17/17 [==============================] - 0s 17ms/step - loss: 0.0393 - mse: 0.0393 - mae: 0.1537 - val_loss: 0.0394 - val_mse: 0.0394 - val_mae: 0.1542\n",
      "Epoch 37/100\n",
      "17/17 [==============================] - 0s 13ms/step - loss: 0.0394 - mse: 0.0394 - mae: 0.1559 - val_loss: 0.0404 - val_mse: 0.0404 - val_mae: 0.1593\n",
      "Epoch 38/100\n",
      "17/17 [==============================] - 0s 13ms/step - loss: 0.0394 - mse: 0.0394 - mae: 0.1534 - val_loss: 0.0393 - val_mse: 0.0393 - val_mae: 0.1526\n",
      "Epoch 39/100\n",
      "17/17 [==============================] - 0s 15ms/step - loss: 0.0393 - mse: 0.0393 - mae: 0.1557 - val_loss: 0.0394 - val_mse: 0.0394 - val_mae: 0.1533\n",
      "Epoch 40/100\n",
      "17/17 [==============================] - 0s 13ms/step - loss: 0.0395 - mse: 0.0395 - mae: 0.1537 - val_loss: 0.0391 - val_mse: 0.0391 - val_mae: 0.1528\n",
      "Epoch 41/100\n",
      "17/17 [==============================] - 0s 14ms/step - loss: 0.0396 - mse: 0.0396 - mae: 0.1559 - val_loss: 0.0398 - val_mse: 0.0398 - val_mae: 0.1565\n",
      "Epoch 42/100\n",
      "17/17 [==============================] - 0s 14ms/step - loss: 0.0395 - mse: 0.0395 - mae: 0.1555 - val_loss: 0.0393 - val_mse: 0.0393 - val_mae: 0.1524\n",
      "Epoch 43/100\n",
      "17/17 [==============================] - 0s 24ms/step - loss: 0.0390 - mse: 0.0390 - mae: 0.1530 - val_loss: 0.0392 - val_mse: 0.0392 - val_mae: 0.1541\n",
      "Epoch 44/100\n",
      "17/17 [==============================] - 0s 20ms/step - loss: 0.0390 - mse: 0.0390 - mae: 0.1531 - val_loss: 0.0389 - val_mse: 0.0389 - val_mae: 0.1515\n",
      "Epoch 45/100\n",
      "17/17 [==============================] - 0s 14ms/step - loss: 0.0391 - mse: 0.0391 - mae: 0.1541 - val_loss: 0.0391 - val_mse: 0.0391 - val_mae: 0.1526\n",
      "Epoch 46/100\n",
      "17/17 [==============================] - 0s 22ms/step - loss: 0.0392 - mse: 0.0392 - mae: 0.1548 - val_loss: 0.0390 - val_mse: 0.0390 - val_mae: 0.1523\n",
      "Epoch 47/100\n",
      "17/17 [==============================] - 0s 14ms/step - loss: 0.0394 - mse: 0.0394 - mae: 0.1552 - val_loss: 0.0392 - val_mse: 0.0392 - val_mae: 0.1526\n",
      "Epoch 48/100\n",
      "17/17 [==============================] - 0s 30ms/step - loss: 0.0389 - mse: 0.0389 - mae: 0.1529 - val_loss: 0.0388 - val_mse: 0.0388 - val_mae: 0.1513\n",
      "Epoch 49/100\n",
      "17/17 [==============================] - 0s 20ms/step - loss: 0.0389 - mse: 0.0389 - mae: 0.1527 - val_loss: 0.0388 - val_mse: 0.0388 - val_mae: 0.1519\n",
      "Epoch 50/100\n",
      "17/17 [==============================] - 0s 17ms/step - loss: 0.0387 - mse: 0.0387 - mae: 0.1536 - val_loss: 0.0389 - val_mse: 0.0389 - val_mae: 0.1522\n",
      "Epoch 51/100\n",
      "17/17 [==============================] - 0s 26ms/step - loss: 0.0390 - mse: 0.0390 - mae: 0.1535 - val_loss: 0.0388 - val_mse: 0.0388 - val_mae: 0.1530\n",
      "Epoch 52/100\n",
      "17/17 [==============================] - 0s 21ms/step - loss: 0.0388 - mse: 0.0388 - mae: 0.1519 - val_loss: 0.0386 - val_mse: 0.0386 - val_mae: 0.1514\n",
      "Epoch 53/100\n",
      "17/17 [==============================] - 1s 33ms/step - loss: 0.0388 - mse: 0.0388 - mae: 0.1536 - val_loss: 0.0396 - val_mse: 0.0396 - val_mae: 0.1550\n",
      "Epoch 54/100\n",
      "17/17 [==============================] - 0s 17ms/step - loss: 0.0393 - mse: 0.0393 - mae: 0.1550 - val_loss: 0.0386 - val_mse: 0.0386 - val_mae: 0.1506\n",
      "Epoch 55/100\n",
      "17/17 [==============================] - 0s 18ms/step - loss: 0.0388 - mse: 0.0388 - mae: 0.1520 - val_loss: 0.0386 - val_mse: 0.0386 - val_mae: 0.1513\n",
      "Epoch 56/100\n",
      "17/17 [==============================] - 0s 13ms/step - loss: 0.0389 - mse: 0.0389 - mae: 0.1527 - val_loss: 0.0392 - val_mse: 0.0392 - val_mae: 0.1516\n",
      "Epoch 57/100\n",
      "17/17 [==============================] - 0s 15ms/step - loss: 0.0389 - mse: 0.0389 - mae: 0.1526 - val_loss: 0.0390 - val_mse: 0.0390 - val_mae: 0.1549\n",
      "Epoch 58/100\n",
      "17/17 [==============================] - 0s 22ms/step - loss: 0.0390 - mse: 0.0390 - mae: 0.1537 - val_loss: 0.0386 - val_mse: 0.0386 - val_mae: 0.1499\n",
      "Epoch 59/100\n",
      "17/17 [==============================] - 0s 17ms/step - loss: 0.0388 - mse: 0.0388 - mae: 0.1532 - val_loss: 0.0387 - val_mse: 0.0387 - val_mae: 0.1512\n",
      "Epoch 60/100\n",
      "17/17 [==============================] - 0s 15ms/step - loss: 0.0387 - mse: 0.0387 - mae: 0.1525 - val_loss: 0.0388 - val_mse: 0.0388 - val_mae: 0.1503\n",
      "Epoch 61/100\n",
      "17/17 [==============================] - 0s 17ms/step - loss: 0.0387 - mse: 0.0387 - mae: 0.1525 - val_loss: 0.0388 - val_mse: 0.0388 - val_mae: 0.1516\n",
      "Epoch 62/100\n",
      "17/17 [==============================] - 0s 16ms/step - loss: 0.0392 - mse: 0.0392 - mae: 0.1547 - val_loss: 0.0386 - val_mse: 0.0386 - val_mae: 0.1523\n",
      "Epoch 63/100\n",
      "17/17 [==============================] - 0s 15ms/step - loss: 0.0387 - mse: 0.0387 - mae: 0.1521 - val_loss: 0.0389 - val_mse: 0.0389 - val_mae: 0.1536\n",
      "Epoch 64/100\n",
      "17/17 [==============================] - 0s 15ms/step - loss: 0.0392 - mse: 0.0392 - mae: 0.1539 - val_loss: 0.0387 - val_mse: 0.0387 - val_mae: 0.1514\n",
      "Epoch 65/100\n",
      "17/17 [==============================] - 0s 16ms/step - loss: 0.0390 - mse: 0.0390 - mae: 0.1520 - val_loss: 0.0385 - val_mse: 0.0385 - val_mae: 0.1533\n",
      "Epoch 66/100\n",
      "17/17 [==============================] - 0s 18ms/step - loss: 0.0390 - mse: 0.0390 - mae: 0.1544 - val_loss: 0.0390 - val_mse: 0.0390 - val_mae: 0.1556\n",
      "Epoch 67/100\n",
      "17/17 [==============================] - 0s 17ms/step - loss: 0.0393 - mse: 0.0393 - mae: 0.1556 - val_loss: 0.0398 - val_mse: 0.0398 - val_mae: 0.1545\n",
      "Epoch 68/100\n",
      "17/17 [==============================] - 0s 17ms/step - loss: 0.0397 - mse: 0.0397 - mae: 0.1538 - val_loss: 0.0386 - val_mse: 0.0386 - val_mae: 0.1530\n",
      "Epoch 69/100\n",
      "17/17 [==============================] - 0s 15ms/step - loss: 0.0391 - mse: 0.0391 - mae: 0.1533 - val_loss: 0.0387 - val_mse: 0.0387 - val_mae: 0.1498\n",
      "Epoch 70/100\n",
      "17/17 [==============================] - 0s 14ms/step - loss: 0.0385 - mse: 0.0385 - mae: 0.1514 - val_loss: 0.0385 - val_mse: 0.0385 - val_mae: 0.1498\n",
      "Epoch 71/100\n",
      "17/17 [==============================] - 0s 14ms/step - loss: 0.0386 - mse: 0.0386 - mae: 0.1510 - val_loss: 0.0385 - val_mse: 0.0385 - val_mae: 0.1490\n",
      "Epoch 72/100\n",
      "17/17 [==============================] - 0s 13ms/step - loss: 0.0386 - mse: 0.0386 - mae: 0.1514 - val_loss: 0.0389 - val_mse: 0.0389 - val_mae: 0.1526\n",
      "Epoch 73/100\n",
      "17/17 [==============================] - 0s 13ms/step - loss: 0.0385 - mse: 0.0385 - mae: 0.1514 - val_loss: 0.0387 - val_mse: 0.0387 - val_mae: 0.1495\n",
      "Epoch 74/100\n",
      "17/17 [==============================] - 0s 13ms/step - loss: 0.0388 - mse: 0.0388 - mae: 0.1518 - val_loss: 0.0385 - val_mse: 0.0385 - val_mae: 0.1496\n",
      "Epoch 75/100\n",
      "17/17 [==============================] - 0s 17ms/step - loss: 0.0385 - mse: 0.0385 - mae: 0.1521 - val_loss: 0.0383 - val_mse: 0.0383 - val_mae: 0.1496\n",
      "Epoch 76/100\n",
      "17/17 [==============================] - 0s 15ms/step - loss: 0.0385 - mse: 0.0385 - mae: 0.1520 - val_loss: 0.0385 - val_mse: 0.0385 - val_mae: 0.1502\n",
      "Epoch 77/100\n",
      "17/17 [==============================] - 0s 11ms/step - loss: 0.0385 - mse: 0.0385 - mae: 0.1510 - val_loss: 0.0384 - val_mse: 0.0384 - val_mae: 0.1491\n",
      "Epoch 78/100\n",
      "17/17 [==============================] - 0s 11ms/step - loss: 0.0386 - mse: 0.0386 - mae: 0.1509 - val_loss: 0.0389 - val_mse: 0.0389 - val_mae: 0.1512\n",
      "Epoch 79/100\n",
      "17/17 [==============================] - 0s 14ms/step - loss: 0.0390 - mse: 0.0390 - mae: 0.1534 - val_loss: 0.0386 - val_mse: 0.0386 - val_mae: 0.1522\n",
      "Epoch 80/100\n",
      "17/17 [==============================] - 0s 13ms/step - loss: 0.0386 - mse: 0.0386 - mae: 0.1508 - val_loss: 0.0384 - val_mse: 0.0384 - val_mae: 0.1500\n",
      "Epoch 81/100\n",
      "17/17 [==============================] - 0s 14ms/step - loss: 0.0385 - mse: 0.0385 - mae: 0.1513 - val_loss: 0.0384 - val_mse: 0.0384 - val_mae: 0.1499\n",
      "Epoch 82/100\n",
      "17/17 [==============================] - 0s 14ms/step - loss: 0.0384 - mse: 0.0384 - mae: 0.1516 - val_loss: 0.0395 - val_mse: 0.0395 - val_mae: 0.1530\n",
      "Epoch 83/100\n",
      "17/17 [==============================] - 0s 13ms/step - loss: 0.0386 - mse: 0.0386 - mae: 0.1513 - val_loss: 0.0383 - val_mse: 0.0383 - val_mae: 0.1503\n",
      "Epoch 84/100\n",
      "17/17 [==============================] - 0s 12ms/step - loss: 0.0388 - mse: 0.0388 - mae: 0.1521 - val_loss: 0.0387 - val_mse: 0.0387 - val_mae: 0.1507\n",
      "Epoch 85/100\n",
      "17/17 [==============================] - 0s 13ms/step - loss: 0.0386 - mse: 0.0386 - mae: 0.1524 - val_loss: 0.0386 - val_mse: 0.0386 - val_mae: 0.1497\n",
      "Epoch 86/100\n",
      "17/17 [==============================] - 0s 13ms/step - loss: 0.0387 - mse: 0.0387 - mae: 0.1511 - val_loss: 0.0386 - val_mse: 0.0386 - val_mae: 0.1536\n",
      "Epoch 87/100\n",
      "17/17 [==============================] - 0s 13ms/step - loss: 0.0384 - mse: 0.0384 - mae: 0.1523 - val_loss: 0.0383 - val_mse: 0.0383 - val_mae: 0.1492\n",
      "Epoch 88/100\n",
      "17/17 [==============================] - 0s 14ms/step - loss: 0.0383 - mse: 0.0383 - mae: 0.1504 - val_loss: 0.0383 - val_mse: 0.0383 - val_mae: 0.1504\n",
      "Epoch 89/100\n",
      "17/17 [==============================] - 0s 15ms/step - loss: 0.0383 - mse: 0.0383 - mae: 0.1501 - val_loss: 0.0383 - val_mse: 0.0383 - val_mae: 0.1500\n",
      "Epoch 90/100\n",
      "17/17 [==============================] - 0s 13ms/step - loss: 0.0383 - mse: 0.0383 - mae: 0.1507 - val_loss: 0.0384 - val_mse: 0.0384 - val_mae: 0.1491\n",
      "Epoch 91/100\n",
      "17/17 [==============================] - 0s 15ms/step - loss: 0.0383 - mse: 0.0383 - mae: 0.1500 - val_loss: 0.0383 - val_mse: 0.0383 - val_mae: 0.1491\n",
      "Epoch 92/100\n",
      "17/17 [==============================] - 0s 15ms/step - loss: 0.0383 - mse: 0.0383 - mae: 0.1499 - val_loss: 0.0384 - val_mse: 0.0384 - val_mae: 0.1489\n",
      "Epoch 93/100\n",
      "17/17 [==============================] - 0s 15ms/step - loss: 0.0383 - mse: 0.0383 - mae: 0.1501 - val_loss: 0.0382 - val_mse: 0.0382 - val_mae: 0.1482\n",
      "Epoch 94/100\n",
      "17/17 [==============================] - 0s 13ms/step - loss: 0.0382 - mse: 0.0382 - mae: 0.1496 - val_loss: 0.0384 - val_mse: 0.0384 - val_mae: 0.1538\n",
      "Epoch 95/100\n",
      "17/17 [==============================] - 0s 14ms/step - loss: 0.0385 - mse: 0.0385 - mae: 0.1520 - val_loss: 0.0387 - val_mse: 0.0387 - val_mae: 0.1511\n",
      "Epoch 96/100\n",
      "17/17 [==============================] - 0s 14ms/step - loss: 0.0384 - mse: 0.0384 - mae: 0.1516 - val_loss: 0.0383 - val_mse: 0.0383 - val_mae: 0.1488\n",
      "Epoch 97/100\n",
      "17/17 [==============================] - 0s 13ms/step - loss: 0.0383 - mse: 0.0383 - mae: 0.1506 - val_loss: 0.0391 - val_mse: 0.0391 - val_mae: 0.1573\n",
      "Epoch 98/100\n",
      "17/17 [==============================] - 0s 13ms/step - loss: 0.0385 - mse: 0.0385 - mae: 0.1519 - val_loss: 0.0388 - val_mse: 0.0388 - val_mae: 0.1494\n",
      "Epoch 99/100\n",
      "17/17 [==============================] - 0s 14ms/step - loss: 0.0387 - mse: 0.0387 - mae: 0.1524 - val_loss: 0.0396 - val_mse: 0.0396 - val_mae: 0.1593\n",
      "Epoch 100/100\n",
      "17/17 [==============================] - 0s 13ms/step - loss: 0.0387 - mse: 0.0387 - mae: 0.1527 - val_loss: 0.0385 - val_mse: 0.0385 - val_mae: 0.1486\n"
     ]
    }
   ],
   "source": [
    "# create model\n",
    "model1 = Sequential()\n",
    "model1.add(Dense(4, input_dim=3, kernel_initializer='normal', activation='relu'))\n",
    "model1.add(Dense(2106,kernel_initializer='normal', activation='relu'))\n",
    "model1.add(Dense(1, activation='linear'))\n",
    "# Compile model\n",
    "model1.compile(loss='mean_squared_error', optimizer='adam', metrics=['mse','mae'])\n",
    "# Fit the model\n",
    "hist1 = model1.fit(xtrain_scale, ytrain_scale, validation_split=0.33, epochs=100, batch_size=150)\n",
    "#At epoch 50, mse and mae just keeps oscillating back and forth"
   ]
  },
  {
   "cell_type": "code",
   "execution_count": 16,
   "id": "9c55ae8f",
   "metadata": {},
   "outputs": [
    {
     "name": "stdout",
     "output_type": "stream",
     "text": [
      "Model: \"sequential\"\n",
      "_________________________________________________________________\n",
      " Layer (type)                Output Shape              Param #   \n",
      "=================================================================\n",
      " dense (Dense)               (None, 4)                 16        \n",
      "                                                                 \n",
      " dense_1 (Dense)             (None, 2106)              10530     \n",
      "                                                                 \n",
      " dense_2 (Dense)             (None, 1)                 2107      \n",
      "                                                                 \n",
      "=================================================================\n",
      "Total params: 12653 (49.43 KB)\n",
      "Trainable params: 12653 (49.43 KB)\n",
      "Non-trainable params: 0 (0.00 Byte)\n",
      "_________________________________________________________________\n"
     ]
    }
   ],
   "source": [
    "model1.summary() "
   ]
  },
  {
   "cell_type": "markdown",
   "id": "b9d94e24",
   "metadata": {},
   "source": [
    "# Model Evaluation"
   ]
  },
  {
   "cell_type": "code",
   "execution_count": 17,
   "id": "37e3c9c5",
   "metadata": {},
   "outputs": [
    {
     "name": "stdout",
     "output_type": "stream",
     "text": [
      "51/51 [==============================] - 0s 3ms/step\n"
     ]
    }
   ],
   "source": [
    "y_predict = model1.predict(xtest_scale)"
   ]
  },
  {
   "cell_type": "code",
   "execution_count": 18,
   "id": "fe43a9a8",
   "metadata": {},
   "outputs": [
    {
     "name": "stdout",
     "output_type": "stream",
     "text": [
      "dict_keys(['loss', 'mse', 'mae', 'val_loss', 'val_mse', 'val_mae'])\n"
     ]
    }
   ],
   "source": [
    "print(hist1.history.keys())"
   ]
  },
  {
   "cell_type": "code",
   "execution_count": 19,
   "id": "a96b3f1a",
   "metadata": {},
   "outputs": [
    {
     "data": {
      "text/html": [
       "<div>\n",
       "<style scoped>\n",
       "    .dataframe tbody tr th:only-of-type {\n",
       "        vertical-align: middle;\n",
       "    }\n",
       "\n",
       "    .dataframe tbody tr th {\n",
       "        vertical-align: top;\n",
       "    }\n",
       "\n",
       "    .dataframe thead th {\n",
       "        text-align: right;\n",
       "    }\n",
       "</style>\n",
       "<table border=\"1\" class=\"dataframe\">\n",
       "  <thead>\n",
       "    <tr style=\"text-align: right;\">\n",
       "      <th></th>\n",
       "      <th>loss</th>\n",
       "      <th>mse</th>\n",
       "      <th>mae</th>\n",
       "      <th>val_loss</th>\n",
       "      <th>val_mse</th>\n",
       "      <th>val_mae</th>\n",
       "      <th>epoch</th>\n",
       "    </tr>\n",
       "  </thead>\n",
       "  <tbody>\n",
       "    <tr>\n",
       "      <th>95</th>\n",
       "      <td>0.038386</td>\n",
       "      <td>0.038386</td>\n",
       "      <td>0.151635</td>\n",
       "      <td>0.038274</td>\n",
       "      <td>0.038274</td>\n",
       "      <td>0.148811</td>\n",
       "      <td>95</td>\n",
       "    </tr>\n",
       "    <tr>\n",
       "      <th>96</th>\n",
       "      <td>0.038343</td>\n",
       "      <td>0.038343</td>\n",
       "      <td>0.150582</td>\n",
       "      <td>0.039099</td>\n",
       "      <td>0.039099</td>\n",
       "      <td>0.157303</td>\n",
       "      <td>96</td>\n",
       "    </tr>\n",
       "    <tr>\n",
       "      <th>97</th>\n",
       "      <td>0.038455</td>\n",
       "      <td>0.038455</td>\n",
       "      <td>0.151867</td>\n",
       "      <td>0.038757</td>\n",
       "      <td>0.038757</td>\n",
       "      <td>0.149357</td>\n",
       "      <td>97</td>\n",
       "    </tr>\n",
       "    <tr>\n",
       "      <th>98</th>\n",
       "      <td>0.038717</td>\n",
       "      <td>0.038717</td>\n",
       "      <td>0.152401</td>\n",
       "      <td>0.039626</td>\n",
       "      <td>0.039626</td>\n",
       "      <td>0.159259</td>\n",
       "      <td>98</td>\n",
       "    </tr>\n",
       "    <tr>\n",
       "      <th>99</th>\n",
       "      <td>0.038691</td>\n",
       "      <td>0.038691</td>\n",
       "      <td>0.152685</td>\n",
       "      <td>0.038479</td>\n",
       "      <td>0.038479</td>\n",
       "      <td>0.148556</td>\n",
       "      <td>99</td>\n",
       "    </tr>\n",
       "  </tbody>\n",
       "</table>\n",
       "</div>"
      ],
      "text/plain": [
       "        loss       mse       mae  val_loss   val_mse   val_mae  epoch\n",
       "95  0.038386  0.038386  0.151635  0.038274  0.038274  0.148811     95\n",
       "96  0.038343  0.038343  0.150582  0.039099  0.039099  0.157303     96\n",
       "97  0.038455  0.038455  0.151867  0.038757  0.038757  0.149357     97\n",
       "98  0.038717  0.038717  0.152401  0.039626  0.039626  0.159259     98\n",
       "99  0.038691  0.038691  0.152685  0.038479  0.038479  0.148556     99"
      ]
     },
     "execution_count": 19,
     "metadata": {},
     "output_type": "execute_result"
    }
   ],
   "source": [
    "hist1_df = pd.DataFrame(hist1.history)\n",
    "hist1_df[\"epoch\"]=hist1.epoch\n",
    "hist1_df.tail()"
   ]
  },
  {
   "cell_type": "markdown",
   "id": "c303c3c7",
   "metadata": {},
   "source": [
    "# Visualize Training History"
   ]
  },
  {
   "cell_type": "code",
   "execution_count": 20,
   "id": "04000eae",
   "metadata": {},
   "outputs": [
    {
     "data": {
      "image/png": "[encoded data removed]",
      "text/plain": [
       "<Figure size 600x400 with 1 Axes>"
      ]
     },
     "metadata": {},
     "output_type": "display_data"
    }
   ],
   "source": [
    "# summarize history for Loss\n",
    "\n",
    "sns.set(rc={'figure.figsize':(6,4)})\n",
    "\n",
    "plt.plot(hist1.history['loss'])\n",
    "plt.plot(hist1.history['val_loss'])\n",
    "plt.title('model1 loss')\n",
    "plt.ylabel('loss')\n",
    "plt.xlabel('epoch')\n",
    "plt.legend(['train', 'test'], loc='upper left')\n",
    "plt.show()"
   ]
  },
  {
   "cell_type": "code",
   "execution_count": 21,
   "id": "a746b10d",
   "metadata": {},
   "outputs": [
    {
     "data": {
      "image/png": "[encoded data removed]",
      "text/plain": [
       "<Figure size 600x400 with 1 Axes>"
      ]
     },
     "metadata": {},
     "output_type": "display_data"
    }
   ],
   "source": [
    "# summarize history for loss\n",
    "plt.plot(hist1.history['mse'])\n",
    "plt.plot(hist1.history['val_mse'])\n",
    "plt.title('model1 mse')\n",
    "plt.ylabel('mse')\n",
    "plt.xlabel('epoch')\n",
    "plt.legend(['train', 'test'], loc='upper left')\n",
    "plt.show() "
   ]
  },
  {
   "cell_type": "code",
   "execution_count": null,
   "id": "7d7182a9",
   "metadata": {},
   "outputs": [],
   "source": []
  }
 ],
 "metadata": {
  "kernelspec": {
   "display_name": "Python 3 (ipykernel)",
   "language": "python",
   "name": "python3"
  },
  "language_info": {
   "codemirror_mode": {
    "name": "ipython",
    "version": 3
   },
   "file_extension": ".py",
   "mimetype": "text/x-python",
   "name": "python",
   "nbconvert_exporter": "python",
   "pygments_lexer": "ipython3",
   "version": "3.11.5"
  }
 },
 "nbformat": 4,
 "nbformat_minor": 5
}
